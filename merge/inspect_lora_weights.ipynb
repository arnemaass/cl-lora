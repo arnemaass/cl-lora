{
 "cells": [
  {
   "cell_type": "code",
   "execution_count": 1,
   "id": "8a49687b",
   "metadata": {},
   "outputs": [],
   "source": [
    "import torch\n",
    "import torch.nn as nn\n",
    "import torch.nn.functional as F\n",
    "from safetensors.torch import load_file"
   ]
  },
  {
   "cell_type": "code",
   "execution_count": 2,
   "id": "61bbdc57",
   "metadata": {},
   "outputs": [
    {
     "name": "stdout",
     "output_type": "stream",
     "text": [
      "fc_768in_19out: torch.Size([19, 768])\n",
      "w_a_000: torch.Size([4, 768])\n",
      "w_a_001: torch.Size([4, 768])\n",
      "w_a_002: torch.Size([4, 768])\n",
      "w_a_003: torch.Size([4, 768])\n",
      "w_a_004: torch.Size([4, 768])\n",
      "w_a_005: torch.Size([4, 768])\n",
      "w_a_006: torch.Size([4, 768])\n",
      "w_a_007: torch.Size([4, 768])\n",
      "w_a_008: torch.Size([4, 768])\n",
      "w_a_009: torch.Size([4, 768])\n",
      "w_a_010: torch.Size([4, 768])\n",
      "w_a_011: torch.Size([4, 768])\n",
      "w_a_012: torch.Size([4, 768])\n",
      "w_a_013: torch.Size([4, 768])\n",
      "w_a_014: torch.Size([4, 768])\n",
      "w_a_015: torch.Size([4, 768])\n",
      "w_a_016: torch.Size([4, 768])\n",
      "w_a_017: torch.Size([4, 768])\n",
      "w_a_018: torch.Size([4, 768])\n",
      "w_a_019: torch.Size([4, 768])\n",
      "w_a_020: torch.Size([4, 768])\n",
      "w_a_021: torch.Size([4, 768])\n",
      "w_a_022: torch.Size([4, 768])\n",
      "w_a_023: torch.Size([4, 768])\n",
      "w_b_000: torch.Size([768, 4])\n",
      "w_b_001: torch.Size([768, 4])\n",
      "w_b_002: torch.Size([768, 4])\n",
      "w_b_003: torch.Size([768, 4])\n",
      "w_b_004: torch.Size([768, 4])\n",
      "w_b_005: torch.Size([768, 4])\n",
      "w_b_006: torch.Size([768, 4])\n",
      "w_b_007: torch.Size([768, 4])\n",
      "w_b_008: torch.Size([768, 4])\n",
      "w_b_009: torch.Size([768, 4])\n",
      "w_b_010: torch.Size([768, 4])\n",
      "w_b_011: torch.Size([768, 4])\n",
      "w_b_012: torch.Size([768, 4])\n",
      "w_b_013: torch.Size([768, 4])\n",
      "w_b_014: torch.Size([768, 4])\n",
      "w_b_015: torch.Size([768, 4])\n",
      "w_b_016: torch.Size([768, 4])\n",
      "w_b_017: torch.Size([768, 4])\n",
      "w_b_018: torch.Size([768, 4])\n",
      "w_b_019: torch.Size([768, 4])\n",
      "w_b_020: torch.Size([768, 4])\n",
      "w_b_021: torch.Size([768, 4])\n",
      "w_b_022: torch.Size([768, 4])\n",
      "w_b_023: torch.Size([768, 4])\n"
     ]
    }
   ],
   "source": [
    "# Path to your LoRA safetensors file\n",
    "lora_path = \"/faststorage/continual_low_rank_adaptation_of_remote_sensing_foundation_models/SpectralGPT/task_tuning/saved_models/task1_Finland_lora.safetensors\"\n",
    "\n",
    "# Load the safetensors file\n",
    "lora_state = load_file(lora_path)\n",
    "\n",
    "# Print all keys and shapes\n",
    "for k, v in lora_state.items():\n",
    "    print(f\"{k}: {v.shape}\")"
   ]
  },
  {
   "cell_type": "code",
   "execution_count": 3,
   "id": "748ec04f",
   "metadata": {},
   "outputs": [
    {
     "name": "stdout",
     "output_type": "stream",
     "text": [
      "fc_768in_19out: torch.Size([19, 768])\n"
     ]
    }
   ],
   "source": [
    "# Path to your LoRA safetensors file\n",
    "lora_path = \"/faststorage/continual_low_rank_adaptation_of_remote_sensing_foundation_models/SpectralGPT/task_tuning/saved_models/task1_Finland_fc.safetensors\"\n",
    "\n",
    "# Load the safetensors file\n",
    "lora_state = load_file(lora_path)\n",
    "\n",
    "# Print all keys and shapes\n",
    "for k, v in lora_state.items():\n",
    "    print(f\"{k}: {v.shape}\")"
   ]
  }
 ],
 "metadata": {
  "kernelspec": {
   "display_name": "cl_lora_env",
   "language": "python",
   "name": "python3"
  },
  "language_info": {
   "codemirror_mode": {
    "name": "ipython",
    "version": 3
   },
   "file_extension": ".py",
   "mimetype": "text/x-python",
   "name": "python",
   "nbconvert_exporter": "python",
   "pygments_lexer": "ipython3",
   "version": "3.9.19"
  }
 },
 "nbformat": 4,
 "nbformat_minor": 5
}
